{
 "cells": [
  {
   "cell_type": "code",
   "execution_count": 1,
   "id": "ce4ec500",
   "metadata": {},
   "outputs": [],
   "source": [
    "import numpy as np\n",
    "import pandas as pd"
   ]
  },
  {
   "cell_type": "code",
   "execution_count": 2,
   "id": "6be003d4",
   "metadata": {},
   "outputs": [],
   "source": [
    "### import boards\n",
    "bingoboards = []\n",
    "with open(\"day4.txt\", \"r\") as f:\n",
    "    draws = f.readline().rstrip().split(\",\")\n",
    "    \n",
    "    lines = f.readlines()\n",
    "    \n",
    "    for line in lines:\n",
    "        if line ==\"\\n\":\n",
    "            board = []\n",
    "        else:\n",
    "            board.append(line.rstrip().split())\n",
    "            \n",
    "        if len(board)==5:\n",
    "            bingoboards.append(np.array(board))\n",
    "\n",
    "bingoboards = np.array(bingoboards)"
   ]
  },
  {
   "cell_type": "code",
   "execution_count": 3,
   "id": "b1b74fcc",
   "metadata": {},
   "outputs": [
    {
     "data": {
      "text/plain": [
       "71708"
      ]
     },
     "execution_count": 3,
     "metadata": {},
     "output_type": "execute_result"
    }
   ],
   "source": [
    "## part 1\n",
    "def chickendinner(boards):\n",
    "    horizontal = (boards==\"GO\").sum(1) \n",
    "    vertical = (boards==\"GO\").sum(2) \n",
    "    \n",
    "    checkrow = np.where(horizontal == 5 )    \n",
    "    checkcol = np.where(vertical == 5 )\n",
    "    \n",
    "    if checkrow[0].shape[0] > 0:\n",
    "        winner = checkrow[0]\n",
    "    elif checkcol[0].shape[0] > 0:\n",
    "        winner = checkcol[0]\n",
    "    else:\n",
    "        winner = []\n",
    "    #print(checkrow, checkcol)\n",
    "    \n",
    "    return np.array(winner)\n",
    "\n",
    "win =  np.array([])\n",
    "ix = 0\n",
    "p1board = bingoboards.copy()\n",
    "while not win.size>0:\n",
    "    p1board[p1board == draws[ix]] = 'GO'\n",
    "    win = chickendinner(p1board)\n",
    "    ix+=1\n",
    "    \n",
    "pd.DataFrame(p1board[win][0]).replace(\"GO\", 0).astype(int).sum().sum() * int(draws[ix-1])"
   ]
  },
  {
   "cell_type": "code",
   "execution_count": 4,
   "id": "1e625006",
   "metadata": {},
   "outputs": [
    {
     "name": "stdout",
     "output_type": "stream",
     "text": [
      "34726\n"
     ]
    }
   ],
   "source": [
    "## part 2\n",
    "winner=[]\n",
    "p2board = bingoboards.copy()\n",
    "\n",
    "\n",
    "for d in draws:\n",
    "    blist = list(np.arange(0, p2board.shape[0]))\n",
    "    p2board[p2board == d] = 'GO'\n",
    "    win = chickendinner(p2board)\n",
    "    \n",
    "    if p2board.shape[0]==1:\n",
    "        win = chickendinner(p2board)\n",
    "        if win.size>0:\n",
    "            print(pd.DataFrame(p2board[win][0]).replace(\"GO\", 0).astype(int).sum().sum() * int(d))\n",
    "            break\n",
    "    elif win.size>0:\n",
    "        losers = list(set(blist).difference(set(win)))\n",
    "        p2board = p2board[losers]\n",
    "        blist = list(np.arange(0, p2board.shape[0]))\n",
    "        \n",
    "    "
   ]
  },
  {
   "cell_type": "code",
   "execution_count": null,
   "id": "74d1c2a8",
   "metadata": {},
   "outputs": [],
   "source": []
  }
 ],
 "metadata": {
  "kernelspec": {
   "display_name": "Python 3 (ipykernel)",
   "language": "python",
   "name": "python3"
  },
  "language_info": {
   "codemirror_mode": {
    "name": "ipython",
    "version": 3
   },
   "file_extension": ".py",
   "mimetype": "text/x-python",
   "name": "python",
   "nbconvert_exporter": "python",
   "pygments_lexer": "ipython3",
   "version": "3.8.12"
  }
 },
 "nbformat": 4,
 "nbformat_minor": 5
}
