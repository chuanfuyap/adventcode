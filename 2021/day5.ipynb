{
 "cells": [
  {
   "cell_type": "code",
   "execution_count": 1,
   "id": "e7e7f093",
   "metadata": {},
   "outputs": [],
   "source": [
    "import numpy as np\n",
    "import pandas as pd"
   ]
  },
  {
   "cell_type": "code",
   "execution_count": 2,
   "id": "f35867ad",
   "metadata": {},
   "outputs": [
    {
     "name": "stdout",
     "output_type": "stream",
     "text": [
      "8060\n"
     ]
    }
   ],
   "source": [
    "### part 1\n",
    "\n",
    "zeros = np.zeros((1000,10000))\n",
    "with open(\"day5.txt\", \"r\") as f:\n",
    "    for line in f.readlines():\n",
    "        a, b = line.rstrip().split(\"->\")\n",
    "        x1,y1 = [int(i) for i in a.split(\",\")]\n",
    "        x2,y2 = [int(i) for i in b.split(\",\")]\n",
    "        if x1==x2:\n",
    "            if y1<y2:\n",
    "                zeros[x1, y1:y2+1]+=1\n",
    "            else:\n",
    "                zeros[x1, y2:y1+1]+=1\n",
    "        elif y1==y2:\n",
    "            if x1<x2:\n",
    "                zeros[x1:x2+1, y1]+=1\n",
    "            else:\n",
    "                zeros[x2:x1+1, y1]+=1\n",
    "\n",
    "answer = (zeros>=2).sum().sum()\n",
    "print(answer)"
   ]
  },
  {
   "cell_type": "code",
   "execution_count": 3,
   "id": "5752d3f9",
   "metadata": {
    "scrolled": true
   },
   "outputs": [
    {
     "name": "stdout",
     "output_type": "stream",
     "text": [
      "21577\n"
     ]
    }
   ],
   "source": [
    "### part 2\n",
    "\n",
    "zeros = np.zeros((1000,1000))\n",
    "with open(\"day5.txt\", \"r\") as f:\n",
    "    for line in f.readlines():\n",
    "        a, b = line.rstrip().split(\"->\")\n",
    "        x1,y1 = [int(i) for i in a.split(\",\")]\n",
    "        x2,y2 = [int(i) for i in b.split(\",\")]\n",
    "        if x1==x2:\n",
    "            if y1<y2:\n",
    "                zeros[x1, y1:y2+1]+=1\n",
    "            else:\n",
    "                zeros[x1, y2:y1+1]+=1\n",
    "        elif y1==y2:\n",
    "            if x1<x2:\n",
    "                zeros[x1:x2+1, y1]+=1\n",
    "            else:\n",
    "                zeros[x2:x1+1, y1]+=1\n",
    "        else:\n",
    "            if x1<x2:\n",
    "                d1 = np.arange(x1,x2+1)\n",
    "            elif x1>x2:\n",
    "                d1 = np.flip(np.arange(x2,x1+1))\n",
    "            if y1<y2:\n",
    "                d2 = np.arange(y1,y2+1)\n",
    "            elif y1>y2:\n",
    "                d2 = np.flip(np.arange(y2,y1+1))\n",
    "            diag = (d1,d2) \n",
    "            \n",
    "            zeros[diag]+=1\n",
    "\n",
    "answer = (zeros>=2).sum().sum()\n",
    "print(answer)"
   ]
  },
  {
   "cell_type": "code",
   "execution_count": null,
   "id": "44ac9d13",
   "metadata": {},
   "outputs": [],
   "source": []
  }
 ],
 "metadata": {
  "kernelspec": {
   "display_name": "Python 3 (ipykernel)",
   "language": "python",
   "name": "python3"
  },
  "language_info": {
   "codemirror_mode": {
    "name": "ipython",
    "version": 3
   },
   "file_extension": ".py",
   "mimetype": "text/x-python",
   "name": "python",
   "nbconvert_exporter": "python",
   "pygments_lexer": "ipython3",
   "version": "3.8.12"
  }
 },
 "nbformat": 4,
 "nbformat_minor": 5
}
