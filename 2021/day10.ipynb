{
 "cells": [
  {
   "cell_type": "code",
   "execution_count": 1,
   "id": "a70bd9b9",
   "metadata": {},
   "outputs": [],
   "source": [
    "opening = [\"(\", \"<\", \"[\", \"{\"]\n",
    "closing = [\")\", \">\", \"]\", \"}\"]\n",
    "match = {\"(\":\")\", \"<\":\">\",\n",
    "         \"[\":\"]\", \"{\":\"}\"}\n",
    "\n",
    "score = {\")\": 3,\n",
    "\"]\": 57,\n",
    "\"}\": 1197,\n",
    "\">\": 25137}\n",
    "\n",
    "def check_corrupt_syntax(syntax):\n",
    "    stack = []\n",
    "    for t in syntax:    \n",
    "        if t in opening:\n",
    "            stack.append(t)\n",
    "        elif t in closing:\n",
    "            o = stack.pop()\n",
    "            if match[o] != t:\n",
    "                return t"
   ]
  },
  {
   "cell_type": "code",
   "execution_count": 3,
   "id": "d466d207",
   "metadata": {},
   "outputs": [
    {
     "name": "stdout",
     "output_type": "stream",
     "text": [
      "315693\n"
     ]
    }
   ],
   "source": [
    "## part 1\n",
    "corrupt=[]\n",
    "with open(\"day10.txt\", \"r\") as f:\n",
    "    lines = f.readlines()\n",
    "    lines = [l.rstrip() for l in lines]\n",
    "    \n",
    "    for l in lines:\n",
    "        out = check_corrupt_syntax(l)\n",
    "        if out:\n",
    "            corrupt.append(out)\n",
    "\n",
    "total=0\n",
    "for c in corrupt:\n",
    "    total+=score[c]\n",
    "print(total)"
   ]
  },
  {
   "cell_type": "code",
   "execution_count": 4,
   "id": "fd93d172",
   "metadata": {},
   "outputs": [],
   "source": [
    "def incomplete_brackets(syntax):\n",
    "    stack = []\n",
    "    for t in syntax:    \n",
    "        if t in opening:\n",
    "            stack.append(t)\n",
    "        elif t in closing:\n",
    "            o = stack.pop()\n",
    "    return stack\n",
    "\n",
    "score2 = {\")\": 1,\n",
    "\"]\": 2,\n",
    "\"}\": 3,\n",
    "\">\": 4}"
   ]
  },
  {
   "cell_type": "code",
   "execution_count": 16,
   "id": "4107c31d",
   "metadata": {},
   "outputs": [
    {
     "data": {
      "text/plain": [
       "1870887234.0"
      ]
     },
     "execution_count": 16,
     "metadata": {},
     "output_type": "execute_result"
    }
   ],
   "source": [
    "## part 2\n",
    "points=[]\n",
    "with open(\"day10.txt\", \"r\") as f:\n",
    "    lines = f.readlines()\n",
    "    lines = [l.rstrip() for l in lines]\n",
    "    \n",
    "    for l in lines:\n",
    "        if not check_corrupt_syntax(l):\n",
    "            incomplete = incomplete_brackets(l)\n",
    "            total = 0\n",
    "            while incomplete:\n",
    "                total = total*5\n",
    "                closer = match[incomplete.pop()]\n",
    "                total += score2[closer]\n",
    "            points.append(total)\n",
    "\n",
    "import numpy as np\n",
    "np.median(points)"
   ]
  },
  {
   "cell_type": "code",
   "execution_count": null,
   "id": "46205308",
   "metadata": {},
   "outputs": [],
   "source": []
  }
 ],
 "metadata": {
  "kernelspec": {
   "display_name": "Python 3 (ipykernel)",
   "language": "python",
   "name": "python3"
  },
  "language_info": {
   "codemirror_mode": {
    "name": "ipython",
    "version": 3
   },
   "file_extension": ".py",
   "mimetype": "text/x-python",
   "name": "python",
   "nbconvert_exporter": "python",
   "pygments_lexer": "ipython3",
   "version": "3.8.12"
  }
 },
 "nbformat": 4,
 "nbformat_minor": 5
}
