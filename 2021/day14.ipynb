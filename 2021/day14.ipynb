{
 "cells": [
  {
   "cell_type": "code",
   "execution_count": 7,
   "id": "f03b9995",
   "metadata": {},
   "outputs": [],
   "source": [
    "with open(\"day14.txt\", \"r\") as f:\n",
    "    lines = f.readlines()\n",
    "    polymer = lines[0].rstrip()\n",
    "    \n",
    "    chain = lines[2:]\n",
    "    chainrule = [x.rstrip().split(\"->\") for x in chain]\n",
    "    chain = {x.strip():x.strip()[0]+y.strip()+x[1] for x,y in chainrule}\n",
    "    chain2 = {x.strip():y.strip() for x,y in chainrule}"
   ]
  },
  {
   "cell_type": "code",
   "execution_count": 8,
   "id": "6d4e90d2",
   "metadata": {},
   "outputs": [],
   "source": [
    "def updatepolymer(poly, rules):\n",
    "    newchain=\"\"\n",
    "    for i in range(0, len(poly)-1):\n",
    "        chunk = poly[i:i+2]\n",
    "        newchain += rules[chunk][:2]\n",
    "    newchain+=poly[-1]\n",
    "    return newchain"
   ]
  },
  {
   "cell_type": "code",
   "execution_count": 9,
   "id": "4d69497a",
   "metadata": {},
   "outputs": [],
   "source": [
    "polybuild = polymer"
   ]
  },
  {
   "cell_type": "code",
   "execution_count": 10,
   "id": "bc0e92d8",
   "metadata": {},
   "outputs": [
    {
     "data": {
      "text/plain": [
       "2027"
      ]
     },
     "execution_count": 10,
     "metadata": {},
     "output_type": "execute_result"
    }
   ],
   "source": [
    "### part 1\n",
    "polybuild = polymer\n",
    "for i in range(10):\n",
    "    polybuild = updatepolymer(polybuild, chain)\n",
    "    \n",
    "from collections import Counter\n",
    "count = Counter(polybuild)\n",
    "max(count.values()) - min(count.values())"
   ]
  },
  {
   "cell_type": "code",
   "execution_count": 11,
   "id": "166fd31f",
   "metadata": {},
   "outputs": [],
   "source": [
    "def countpolymerpairs(poly, rules, steps):\n",
    "    ## set up the chaining rules in pairs for value\n",
    "    rulepair = {}\n",
    "    for k,v in rules.items():\n",
    "        rulepair[k]=(k[0]+v,v+k[1])\n",
    "    \n",
    "    ## set up the keys for polypair\n",
    "    polypair = {k : 0 for k,v in rulepair.items()}\n",
    "    for i in range(0, len(poly)-1):\n",
    "        polypair[poly[i:i+2]]+=1    \n",
    "    \n",
    "    for i in range(steps):\n",
    "        tmp =  {k : 0 for k,v in rulepair.items()}\n",
    "        for k,v in polypair.items():\n",
    "            ## \"duplicates\" the polymers here\n",
    "            tmp[rulepair[k][0]] += v\n",
    "            tmp[rulepair[k][1]] += v\n",
    "        polypair=tmp\n",
    "\n",
    "    return polypair\n",
    "\n",
    "def countpolymer(polypair):\n",
    "    count = {}\n",
    "    for k,v in polypair.items():\n",
    "        if k[0] not in count:\n",
    "            count[k[0]]=0\n",
    "        count[k[0]]+=v\n",
    "    \n",
    "    return count"
   ]
  },
  {
   "cell_type": "code",
   "execution_count": 12,
   "id": "3c10e6ac",
   "metadata": {
    "scrolled": true
   },
   "outputs": [
    {
     "data": {
      "text/plain": [
       "2265039461737"
      ]
     },
     "execution_count": 12,
     "metadata": {},
     "output_type": "execute_result"
    }
   ],
   "source": [
    "### part 2\n",
    "polybuild = polymer\n",
    "polymerpairs = countpolymerpairs(polybuild, chain2, 40)\n",
    "countpoly = countpolymer(polymerpairs)\n",
    "countpoly[polybuild[-1]]+=1\n",
    "\n",
    "max(countpoly.values()) - min(countpoly.values())"
   ]
  },
  {
   "cell_type": "code",
   "execution_count": null,
   "id": "fa2b9b28",
   "metadata": {},
   "outputs": [],
   "source": []
  }
 ],
 "metadata": {
  "kernelspec": {
   "display_name": "Python 3 (ipykernel)",
   "language": "python",
   "name": "python3"
  },
  "language_info": {
   "codemirror_mode": {
    "name": "ipython",
    "version": 3
   },
   "file_extension": ".py",
   "mimetype": "text/x-python",
   "name": "python",
   "nbconvert_exporter": "python",
   "pygments_lexer": "ipython3",
   "version": "3.8.12"
  }
 },
 "nbformat": 4,
 "nbformat_minor": 5
}
