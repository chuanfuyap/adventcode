{
 "cells": [
  {
   "cell_type": "code",
   "execution_count": 1,
   "id": "e302a85d",
   "metadata": {},
   "outputs": [],
   "source": [
    "import numpy as np"
   ]
  },
  {
   "cell_type": "code",
   "execution_count": 2,
   "id": "7b16bcc8",
   "metadata": {},
   "outputs": [
    {
     "data": {
      "text/plain": [
       "345035.0"
      ]
     },
     "execution_count": 2,
     "metadata": {},
     "output_type": "execute_result"
    }
   ],
   "source": [
    "### part 1 \n",
    "crabs = np.loadtxt(\"day7.txt\", delimiter=\",\")\n",
    "trackfuel = []\n",
    "\n",
    "for i in range(crabs.shape[0]):\n",
    "    fuelcount = np.abs(crabs-i).sum()\n",
    "    trackfuel.append(fuelcount)\n",
    "np.min(trackfuel)"
   ]
  },
  {
   "cell_type": "code",
   "execution_count": 3,
   "id": "388364bd",
   "metadata": {},
   "outputs": [
    {
     "data": {
      "text/plain": [
       "97038163.0"
      ]
     },
     "execution_count": 3,
     "metadata": {},
     "output_type": "execute_result"
    }
   ],
   "source": [
    "crabs = np.loadtxt(\"day7.txt\", delimiter=\",\")\n",
    "trackfuel = []\n",
    "def gauss(n):\n",
    "    top = n*(n+1)\n",
    "    btm = 2\n",
    "    return top/btm\n",
    "for i in range(crabs.shape[0]):\n",
    "    fuelcount = np.abs(crabs-i)\n",
    "    fuelcount = gauss(fuelcount).sum()\n",
    "    trackfuel.append(fuelcount)\n",
    "    \n",
    "np.min(trackfuel)"
   ]
  },
  {
   "cell_type": "code",
   "execution_count": null,
   "id": "2bce8052",
   "metadata": {},
   "outputs": [],
   "source": []
  }
 ],
 "metadata": {
  "kernelspec": {
   "display_name": "Python 3 (ipykernel)",
   "language": "python",
   "name": "python3"
  },
  "language_info": {
   "codemirror_mode": {
    "name": "ipython",
    "version": 3
   },
   "file_extension": ".py",
   "mimetype": "text/x-python",
   "name": "python",
   "nbconvert_exporter": "python",
   "pygments_lexer": "ipython3",
   "version": "3.8.12"
  }
 },
 "nbformat": 4,
 "nbformat_minor": 5
}
