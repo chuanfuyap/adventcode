{
 "cells": [
  {
   "cell_type": "code",
   "execution_count": 1,
   "id": "694a87c0",
   "metadata": {},
   "outputs": [],
   "source": [
    "import pandas as pd\n",
    "import numpy as np"
   ]
  },
  {
   "cell_type": "code",
   "execution_count": 2,
   "id": "eafb7bbb",
   "metadata": {},
   "outputs": [],
   "source": [
    "with open(\"day9.txt\", \"r\") as f:\n",
    "    lines = f.readlines()\n",
    "    lines = [list(l.rstrip()) for l in lines]\n",
    "    cave = np.array(lines).astype(int)"
   ]
  },
  {
   "cell_type": "code",
   "execution_count": 3,
   "id": "99505583",
   "metadata": {},
   "outputs": [],
   "source": [
    "### functions\n",
    "def neighbours(ix,boundaries):\n",
    "    \"\"\"\n",
    "    gets the index for the up, down, left, right\n",
    "    \"\"\" \n",
    "    row,col = ix[0], ix[1]\n",
    "    up = (row-1, col)\n",
    "    down = (row+1, col)\n",
    "    left = (row, col-1)\n",
    "    right = (row, col+1)\n",
    "    nbours = [up, down, left, right]\n",
    "    \n",
    "    x,y = boundaries\n",
    "    out = [-1, x,y]\n",
    "    safe = []\n",
    "    for n in nbours:\n",
    "        if checkbounds(n, out):\n",
    "            safe.append(n)\n",
    "    \n",
    "    return safe\n",
    "\n",
    "def checkbounds(ix, notsafe):\n",
    "    \"\"\" \n",
    "    check if the neighouring spot is out of bounds\n",
    "    \"\"\" \n",
    "    safe = True\n",
    "    for i in ix:\n",
    "        if i == notsafe[0]:\n",
    "            safe=False\n",
    "    if ix[0] == notsafe[1]:\n",
    "        safe=False\n",
    "    if ix[1] == notsafe[2]:\n",
    "        safe=False\n",
    "            \n",
    "    return safe\n",
    "\n",
    "def check_low(ix, cavemap):\n",
    "    \"\"\"\n",
    "    if it is lower than the up, down, left, right neighbours\n",
    "    \"\"\"    \n",
    "    lowest=True\n",
    "    current = cavemap[ix]\n",
    "    checks = neighbours(ix, cavemap.shape)\n",
    "    \n",
    "    for c in checks:\n",
    "        compare = cavemap[c]\n",
    "        if compare<current:\n",
    "            lowest=False\n",
    "    \n",
    "    return lowest\n",
    "\n",
    "def trickle(ix, cavemap):\n",
    "    \"\"\"\n",
    "    finds the lowest of the neighbours and drop/flow towards it\n",
    "    \"\"\"\n",
    "    current = cavemap[ix]\n",
    "    checks = neighbours(ix, cavemap.shape)\n",
    "    drop=1e9\n",
    "    for c in checks:\n",
    "        compare = cavemap[c]\n",
    "        if compare<current and compare<drop:\n",
    "            drop=compare\n",
    "            newdrop=c\n",
    "    return newdrop"
   ]
  },
  {
   "cell_type": "code",
   "execution_count": 4,
   "id": "1ceb1f97",
   "metadata": {
    "scrolled": true
   },
   "outputs": [
    {
     "name": "stdout",
     "output_type": "stream",
     "text": [
      "480\n"
     ]
    }
   ],
   "source": [
    "### part 1 \n",
    "low = set()\n",
    "### loop through every coordinate on the cave map and trickle down from there. \n",
    "for row in range(cave.shape[0]):\n",
    "    for col in range(cave.shape[1]):\n",
    "        ix = (row, col)\n",
    "        movement =0\n",
    "        while not check_low(ix, cave):\n",
    "            movement+=1\n",
    "            ix = (trickle(ix, cave))\n",
    "        ## must check for flow movement\n",
    "        if movement>0:\n",
    "            low.add(ix)\n",
    "        \n",
    "## sum up\n",
    "total = 0\n",
    "for l in low:\n",
    "    total+=cave[l]+1\n",
    "    #print(cave[l], l)\n",
    "    \n",
    "print(total)"
   ]
  },
  {
   "cell_type": "code",
   "execution_count": 5,
   "id": "783c6fc9",
   "metadata": {},
   "outputs": [],
   "source": [
    "def climb(ix, cavemap):\n",
    "    \"\"\"\n",
    "    finds the higher neighbours and climb up it\n",
    "    \"\"\"\n",
    "    current = cavemap[ix] ## the cave height\n",
    "    checks = neighbours(ix, cavemap.shape) ## neighbours\n",
    "    scale=[]\n",
    "    for c in checks:\n",
    "        compare = cavemap[c] ## neighbour height\n",
    "        if compare>current and compare!=9:\n",
    "            scale.append(c)\n",
    "            \n",
    "    return scale\n",
    "\n",
    "def findnewspot(spotlist, cavemap):\n",
    "    \"\"\"\n",
    "    loops through list to find new spots\n",
    "    \"\"\"\n",
    "    newspot = []\n",
    "    for s in spotlist:\n",
    "        newspot.extend(climb(s, cavemap))\n",
    "    return newspot\n",
    "\n",
    "def basin(ix, cavemap):\n",
    "    \"\"\"\n",
    "    map out basin.\n",
    "    \"\"\"\n",
    "    mapped = set()\n",
    "    mapped.add(ix)\n",
    "    adj = neighbours(ix, cavemap.shape)\n",
    "    adj = [a for a in adj if cavemap[a]!=9]\n",
    "    ## map nearby \n",
    "    [mapped.add(a) for a in adj]\n",
    "    ## survey\n",
    "    nspots = findnewspot(adj, cavemap)\n",
    "\n",
    "    finishmap = False\n",
    "    while not finishmap: \n",
    "        if (set(nspots).difference(mapped)):\n",
    "            [mapped.add(a) for a in nspots]\n",
    "            nspots = findnewspot(nspots, cavemap)\n",
    "        else:\n",
    "            finishmap=True\n",
    "           \n",
    "    return mapped\n",
    "\n"
   ]
  },
  {
   "cell_type": "code",
   "execution_count": 6,
   "id": "b0db57a1",
   "metadata": {},
   "outputs": [
    {
     "data": {
      "text/plain": [
       "1045660"
      ]
     },
     "execution_count": 6,
     "metadata": {},
     "output_type": "execute_result"
    }
   ],
   "source": [
    "basinsize = [] \n",
    "for l in low:\n",
    "    base = basin(l, cave)\n",
    "    basinsize.append(len(base))\n",
    "\n",
    "basinsize.sort(reverse=True)\n",
    "basinsize[0] * basinsize[1]* basinsize[2]"
   ]
  }
 ],
 "metadata": {
  "kernelspec": {
   "display_name": "Python 3 (ipykernel)",
   "language": "python",
   "name": "python3"
  },
  "language_info": {
   "codemirror_mode": {
    "name": "ipython",
    "version": 3
   },
   "file_extension": ".py",
   "mimetype": "text/x-python",
   "name": "python",
   "nbconvert_exporter": "python",
   "pygments_lexer": "ipython3",
   "version": "3.8.12"
  }
 },
 "nbformat": 4,
 "nbformat_minor": 5
}
