{
 "cells": [
  {
   "cell_type": "code",
   "execution_count": 1,
   "id": "cc314fa5",
   "metadata": {},
   "outputs": [],
   "source": [
    "import numpy as np"
   ]
  },
  {
   "cell_type": "code",
   "execution_count": 2,
   "id": "a7156cb4",
   "metadata": {},
   "outputs": [],
   "source": [
    "def neighbours(ix, boundaries, flashing):\n",
    "    \"\"\"\n",
    "    get the index for all adjacent\n",
    "    \"\"\"\n",
    "    row,col = ix[0], ix[1]\n",
    "    up = (row-1, col)\n",
    "    down = (row+1, col)\n",
    "    left = (row, col-1)\n",
    "    right = (row, col+1)\n",
    "    topleft = (row-1, col-1)\n",
    "    topright = (row-1, col+1)\n",
    "    btmleft = (row+1, col-1)\n",
    "    btmright = (row+1, col+1)\n",
    "    nbours = [up, down, left, right,\n",
    "             topleft, topright, btmleft, btmright]\n",
    "    \n",
    "    x,y = boundaries\n",
    "    out = [-1, x,y]\n",
    "    safe = []\n",
    "    for n in nbours:\n",
    "        if checkbounds(n, out):\n",
    "            safe.append(n)\n",
    "        if n in flashing: ## if they have flashed, dont add to neighbours\n",
    "            safe.remove(n)\n",
    "    \n",
    "    return safe\n",
    "\n",
    "def checkbounds(ix, notsafe):\n",
    "    \"\"\" \n",
    "    check if the neighouring spot is out of bounds\n",
    "    \"\"\" \n",
    "    safe = True\n",
    "    for i in ix:\n",
    "        if i == notsafe[0]:\n",
    "            safe=False\n",
    "    if ix[0] == notsafe[1]:\n",
    "        safe=False\n",
    "    if ix[1] == notsafe[2]:\n",
    "        safe=False\n",
    "            \n",
    "    return safe\n",
    "\n",
    "def energise_neigbours(nlist, octolist):\n",
    "    \"\"\"\n",
    "    simple loop to give energy to the neigbours\n",
    "    \"\"\"\n",
    "    for n in nlist:\n",
    "        octolist[n]+=1\n",
    "        \n",
    "    return octolist\n",
    "\n",
    "def lose_charge(flashing, octolist):\n",
    "    \"\"\"\n",
    "    for those that have flashed, set energy level back to 0\n",
    "    \"\"\"\n",
    "    for f in flashing:\n",
    "        octolist[f]=0\n",
    "        \n",
    "    return octolist\n",
    "\n",
    "def energiselist(flashing, octolist, masterlist):\n",
    "    \"\"\"\n",
    "    find those nearby the flashing octo to give energy to. \n",
    "    \"\"\"\n",
    "    energise = []\n",
    "    for f in flashing:\n",
    "        energise.extend(neighbours(f, octolist.shape, masterlist))\n",
    "        \n",
    "    return energise"
   ]
  },
  {
   "cell_type": "code",
   "execution_count": 3,
   "id": "1b5f98fd",
   "metadata": {},
   "outputs": [],
   "source": [
    "with open(\"day11.txt\", \"r\") as f:\n",
    "    data = f.readlines()\n",
    "    data = [list(f.rstrip()) for f in data]\n",
    "    data = np.array(data).astype(\"int\")"
   ]
  },
  {
   "cell_type": "code",
   "execution_count": 4,
   "id": "41f0316a",
   "metadata": {},
   "outputs": [
    {
     "name": "stdout",
     "output_type": "stream",
     "text": [
      "1634\n"
     ]
    }
   ],
   "source": [
    "### part 1\n",
    "octo = data.copy()\n",
    "flashcount = 0\n",
    "for i in range(100):\n",
    "    octo+=1\n",
    "    ## need master flashing list to make sure within this turn, they only flash once. \n",
    "    master_flashing_list = []\n",
    "    \n",
    "    ## check for flash and keep flashing until nothing is at level 10\n",
    "    tmp = octo[octo>9]\n",
    "    while tmp.any():\n",
    "        ix = np.where(octo>9)\n",
    "        ix = [(x,y) for x,y in zip(ix[0],ix[1]) ]\n",
    "\n",
    "        flashing = ix.copy()\n",
    "        master_flashing_list.extend(ix)\n",
    "        \n",
    "        energise = energiselist(ix, octo, master_flashing_list)\n",
    "        \n",
    "        octo = energise_neigbours(energise, octo)\n",
    "        octo = lose_charge(flashing, octo)\n",
    "        \n",
    "        tmp = octo[octo>9]\n",
    "        \n",
    "    flashcount +=len(master_flashing_list)\n",
    "print(flashcount)"
   ]
  },
  {
   "cell_type": "code",
   "execution_count": 5,
   "id": "90d24300",
   "metadata": {},
   "outputs": [
    {
     "name": "stdout",
     "output_type": "stream",
     "text": [
      "SYNCHRONY 210\n",
      "SYNCHRONY 220\n"
     ]
    }
   ],
   "source": [
    "### part 2\n",
    "octo = data.copy()\n",
    "for i in range(222):\n",
    "    octo+=1\n",
    "    \n",
    "    ## need master flashing list to make sure within this turn, they only flash once. \n",
    "    master_flashing_list = []\n",
    "    \n",
    "    ## check for flash and keep flashing until nothing is at level 10\n",
    "    tmp = octo[octo>9]\n",
    "    while tmp.any():\n",
    "        ix = np.where(octo>9)\n",
    "        ix = [(x,y) for x,y in zip(ix[0],ix[1]) ]\n",
    "\n",
    "        flashing = ix.copy()\n",
    "        master_flashing_list.extend(ix)\n",
    "        \n",
    "        energise = energiselist(ix, octo, master_flashing_list)\n",
    "        \n",
    "        octo = energise_neigbours(energise, octo)\n",
    "        octo = lose_charge(flashing, octo)\n",
    "        \n",
    "        tmp = octo[octo>9]\n",
    "        \n",
    "        if octo[octo==0].shape[0]==100:\n",
    "            print(\"SYNCHRONY\", i+1)"
   ]
  },
  {
   "cell_type": "code",
   "execution_count": null,
   "id": "e51f65aa",
   "metadata": {},
   "outputs": [],
   "source": []
  }
 ],
 "metadata": {
  "kernelspec": {
   "display_name": "Python 3 (ipykernel)",
   "language": "python",
   "name": "python3"
  },
  "language_info": {
   "codemirror_mode": {
    "name": "ipython",
    "version": 3
   },
   "file_extension": ".py",
   "mimetype": "text/x-python",
   "name": "python",
   "nbconvert_exporter": "python",
   "pygments_lexer": "ipython3",
   "version": "3.8.12"
  }
 },
 "nbformat": 4,
 "nbformat_minor": 5
}
