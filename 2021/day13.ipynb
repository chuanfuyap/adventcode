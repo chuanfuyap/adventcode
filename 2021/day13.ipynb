{
 "cells": [
  {
   "cell_type": "code",
   "execution_count": 1,
   "id": "b78e856f",
   "metadata": {},
   "outputs": [],
   "source": [
    "import numpy as np"
   ]
  },
  {
   "cell_type": "code",
   "execution_count": 2,
   "id": "748b1810",
   "metadata": {},
   "outputs": [],
   "source": [
    "with open(\"day13.txt\", \"r\") as f:\n",
    "    lines = f.readlines()\n",
    "    lines = [l.rstrip() for l in lines]\n",
    "    holes = [x for x in lines if \",\" in x]\n",
    "    holes = [x.split(\",\") for x in holes]\n",
    "    holes = [(int(y),int(x)) for x,y in holes]\n",
    "    fold = [x.split(\" \")[-1] for x in lines if \"fold\" in x]\n",
    "    fold = [x.split(\"=\") for x in fold]\n",
    "    \n",
    "    xmax = [x for x,y in holes]\n",
    "    xmax = max(xmax)+1\n",
    "    \n",
    "    ymax = [y for x,y in holes]\n",
    "    ymax = max(ymax)+1"
   ]
  },
  {
   "cell_type": "code",
   "execution_count": 3,
   "id": "52411e0e",
   "metadata": {},
   "outputs": [],
   "source": [
    "def poke_paper(paper, holes):\n",
    "    for h in holes:\n",
    "        paper[h]+=1\n",
    "    return paper"
   ]
  },
  {
   "cell_type": "code",
   "execution_count": 17,
   "id": "b6b0e6ef",
   "metadata": {},
   "outputs": [],
   "source": [
    "def fold_y(paper, lineno):\n",
    "    for i, j in zip(reversed(range(lineno)), range(lineno+1,lineno*2+1 )):\n",
    "        try:\n",
    "            paper[i, :]+=paper[j,:]\n",
    "        except:\n",
    "            pass\n",
    "    \n",
    "    return paper[:lineno,:]\n",
    "\n",
    "def fold_x(paper, lineno):\n",
    "    for i, j in zip(reversed(range(lineno)), range(lineno+1,lineno*2+1 )):\n",
    "        try:\n",
    "            paper[:,i]+=paper[:,j]\n",
    "        except:\n",
    "            pass\n",
    "        \n",
    "    return paper[:,:lineno]"
   ]
  },
  {
   "cell_type": "code",
   "execution_count": 12,
   "id": "15c04135",
   "metadata": {},
   "outputs": [
    {
     "data": {
      "text/plain": [
       "684"
      ]
     },
     "execution_count": 12,
     "metadata": {},
     "output_type": "execute_result"
    }
   ],
   "source": [
    "### part 1 \n",
    "paper = np.zeros((xmax,ymax))\n",
    "paper = poke_paper(paper, holes)\n",
    "\n",
    "firstfold = fold[0]\n",
    "axis = firstfold[0]\n",
    "num = int(firstfold[1])\n",
    "if axis==\"y\":\n",
    "    paper = fold_y(paper, num)\n",
    "elif axis==\"x\":\n",
    "    paper = fold_x(paper, num)\n",
    "    \n",
    "paper[paper>0].shape[0]"
   ]
  },
  {
   "cell_type": "code",
   "execution_count": 24,
   "id": "fc80e58a",
   "metadata": {},
   "outputs": [],
   "source": [
    "paper = np.zeros((xmax,ymax))\n",
    "paper = poke_paper(paper, holes)\n",
    "\n",
    "for f in fold:\n",
    "    axis = f[0]\n",
    "    num = int(f[1])\n",
    "    if axis==\"y\":\n",
    "        paper = fold_y(paper, num)\n",
    "    elif axis==\"x\":\n",
    "        paper = fold_x(paper, num)"
   ]
  },
  {
   "cell_type": "code",
   "execution_count": 35,
   "id": "551ca108",
   "metadata": {},
   "outputs": [
    {
     "name": "stdout",
     "output_type": "stream",
     "text": [
      "[[0. 0. 5. 4. 0.]\n",
      " [0. 0. 0. 3. 0.]\n",
      " [0. 0. 0. 2. 0.]\n",
      " [0. 0. 0. 4. 0.]\n",
      " [7. 0. 0. 1. 0.]\n",
      " [0. 3. 2. 0. 0.]]\n",
      "[[ 3. 11.  2.  0.  0.]\n",
      " [ 2.  0.  0. 14.  0.]\n",
      " [ 5.  0.  0.  2.  0.]\n",
      " [ 2.  7.  8.  0.  0.]\n",
      " [ 3.  0. 23.  0.  0.]\n",
      " [12.  0.  0.  5.  0.]]\n",
      "[[ 5.  4.  6.  9.  0.]\n",
      " [ 0.  0.  0. 14.  0.]\n",
      " [ 0.  0.  3.  0.  0.]\n",
      " [ 0. 27.  0.  0.  0.]\n",
      " [12.  0.  0.  0.  0.]\n",
      " [ 6. 23.  5.  9.  0.]]\n",
      "[[ 2.  2. 12.  0.  0.]\n",
      " [ 3.  0.  0. 12.  0.]\n",
      " [14.  9. 18.  0.  0.]\n",
      " [24.  0.  0. 15.  0.]\n",
      " [10.  0.  0.  1.  0.]\n",
      " [18.  5. 32.  0.  0.]]\n",
      "[[11.  0.  0.  0.  0.]\n",
      " [ 1.  0.  0.  0.  0.]\n",
      " [ 1.  0.  0.  0.  0.]\n",
      " [19.  0.  0.  0.  0.]\n",
      " [10.  0.  0.  0.  0.]\n",
      " [ 3. 14. 16.  1.  0.]]\n",
      "[[ 0.  4.  2.  0.  0.]\n",
      " [ 8.  0.  0.  5.  0.]\n",
      " [10.  0.  0.  0.  0.]\n",
      " [ 2.  0. 19.  7.  0.]\n",
      " [ 9.  0.  0.  2.  0.]\n",
      " [ 0.  8.  9. 16.  0.]]\n",
      "[[ 2.  0.  0.  8.  0.]\n",
      " [ 3.  0. 13.  0.  0.]\n",
      " [11.  9.  0.  0.  0.]\n",
      " [ 9.  0.  5.  0.  0.]\n",
      " [ 8.  0.  6.  0.  0.]\n",
      " [19.  0.  0.  2.  0.]]\n",
      "[[ 3.  0.  0.  4.  0.]\n",
      " [13.  0.  0. 17.  0.]\n",
      " [ 8. 25. 21.  1.  0.]\n",
      " [ 5.  0.  0.  8.  0.]\n",
      " [15.  0.  0.  5.  0.]\n",
      " [ 9.  0.  0. 10.  0.]]\n"
     ]
    }
   ],
   "source": [
    "prior=0\n",
    "for i in range(5,45, 5):\n",
    "    print(paper[:,prior:i])\n",
    "    prior=i"
   ]
  }
 ],
 "metadata": {
  "kernelspec": {
   "display_name": "Python 3 (ipykernel)",
   "language": "python",
   "name": "python3"
  },
  "language_info": {
   "codemirror_mode": {
    "name": "ipython",
    "version": 3
   },
   "file_extension": ".py",
   "mimetype": "text/x-python",
   "name": "python",
   "nbconvert_exporter": "python",
   "pygments_lexer": "ipython3",
   "version": "3.8.12"
  }
 },
 "nbformat": 4,
 "nbformat_minor": 5
}
