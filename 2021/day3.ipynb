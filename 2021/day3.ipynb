{
 "cells": [
  {
   "cell_type": "code",
   "execution_count": 1,
   "id": "221b34bf",
   "metadata": {},
   "outputs": [],
   "source": [
    "import pandas as pd\n",
    "import numpy as np"
   ]
  },
  {
   "cell_type": "code",
   "execution_count": 2,
   "id": "f6f6693e",
   "metadata": {},
   "outputs": [],
   "source": [
    "df = pd.read_csv(\"day3.txt\", header=None, dtype=str)"
   ]
  },
  {
   "cell_type": "code",
   "execution_count": 3,
   "id": "3b1de524",
   "metadata": {
    "scrolled": true
   },
   "outputs": [
    {
     "data": {
      "text/plain": [
       "3813416"
      ]
     },
     "execution_count": 3,
     "metadata": {},
     "output_type": "execute_result"
    }
   ],
   "source": [
    "### part 1 \n",
    "df = df.apply(lambda x: list(x[0]), axis=1, result_type=\"expand\")\n",
    "binary = df.astype(int).sum(0)\n",
    "gamma = (binary>=500).astype(int).astype(str)\n",
    "epsilon = (binary<500).astype(int).astype(str)\n",
    "\n",
    "gamma = int((\"\").join(gamma.values), 2)\n",
    "epsilon = int((\"\").join(epsilon.values), 2)\n",
    "\n",
    "gamma*epsilon"
   ]
  },
  {
   "cell_type": "code",
   "execution_count": 4,
   "id": "3087f8d5",
   "metadata": {},
   "outputs": [
    {
     "data": {
      "text/plain": [
       "2990784"
      ]
     },
     "execution_count": 4,
     "metadata": {},
     "output_type": "execute_result"
    }
   ],
   "source": [
    "## cleaner part 2\n",
    "inputdf = pd.read_csv(\"day3.txt\", header=None, dtype=str)\n",
    "inputdf = inputdf.apply(lambda x: list(x[0]), axis=1, result_type=\"expand\")\n",
    "\n",
    "def gas(dataframe, o2=True):\n",
    "    df = dataframe.copy().astype(str)\n",
    "    \n",
    "    col = 0\n",
    "    while df.shape[0] >1:\n",
    "        a,b = df.groupby(col).size()\n",
    "\n",
    "        if a==b:\n",
    "            if o2:\n",
    "                pick=\"1\"\n",
    "            else: \n",
    "                pick=\"0\"\n",
    "            df = df[df[col]==pick]\n",
    "        else:\n",
    "            if o2:\n",
    "                common = np.argmax([a,b])\n",
    "            else:\n",
    "                common = np.argmin([a,b])\n",
    "                \n",
    "            df = df[df[col]==str(common)]\n",
    "        \n",
    "        col+=1\n",
    "    return df\n",
    "\n",
    "o2 = int((\"\").join((gas(df).values[0])), 2)\n",
    "co2 = int((\"\").join((gas(df, False).values[0])), 2)\n",
    "o2 * co2"
   ]
  },
  {
   "cell_type": "code",
   "execution_count": null,
   "id": "587b1e3e",
   "metadata": {},
   "outputs": [],
   "source": []
  },
  {
   "cell_type": "code",
   "execution_count": null,
   "id": "daa86468",
   "metadata": {},
   "outputs": [],
   "source": []
  },
  {
   "cell_type": "code",
   "execution_count": null,
   "id": "d80cdb38",
   "metadata": {},
   "outputs": [],
   "source": []
  }
 ],
 "metadata": {
  "kernelspec": {
   "display_name": "Python 3 (ipykernel)",
   "language": "python",
   "name": "python3"
  },
  "language_info": {
   "codemirror_mode": {
    "name": "ipython",
    "version": 3
   },
   "file_extension": ".py",
   "mimetype": "text/x-python",
   "name": "python",
   "nbconvert_exporter": "python",
   "pygments_lexer": "ipython3",
   "version": "3.8.12"
  }
 },
 "nbformat": 4,
 "nbformat_minor": 5
}
