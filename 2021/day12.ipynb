{
 "cells": [
  {
   "cell_type": "code",
   "execution_count": 1,
   "id": "23deb1a2",
   "metadata": {},
   "outputs": [],
   "source": [
    "with open('day12.txt', \"r\") as f:\n",
    "    lines = f.readlines()\n",
    "    lines = [l.rstrip().split(\"-\") for l in lines]"
   ]
  },
  {
   "cell_type": "code",
   "execution_count": 2,
   "id": "94155f96",
   "metadata": {},
   "outputs": [],
   "source": [
    "from collections import defaultdict\n",
    "graph = defaultdict(list)\n",
    "for x,y in lines:\n",
    "    graph[x].append(y)\n",
    "    graph[y].append(x)"
   ]
  },
  {
   "cell_type": "markdown",
   "id": "6a610075",
   "metadata": {},
   "source": [
    "# DISCLAIMER: solution by https://www.reddit.com/user/joshbduncan/"
   ]
  },
  {
   "cell_type": "code",
   "execution_count": 3,
   "id": "5deef4c5",
   "metadata": {},
   "outputs": [],
   "source": [
    "## reddit solution my way BUT \"ADAPTED\" FROM https://www.reddit.com/user/joshbduncan/\n",
    "def traverse(graph, part2):\n",
    "    path_count = 0    \n",
    "    queue = [(\"start\", [\"start\"], False)]\n",
    "    \n",
    "    while queue:\n",
    "        node, camefrom, small = queue.pop()\n",
    "        if node == \"end\":\n",
    "            path_count+=1\n",
    "            continue\n",
    "        for n in graph[node]:\n",
    "            if n not in camefrom:\n",
    "                visited = []\n",
    "                visited.extend(camefrom)\n",
    "                if n.islower():\n",
    "                    visited.append(n)\n",
    "                queue.append((n, visited,small))\n",
    "            elif n in camefrom and not small and n not in [\"start\", \"end\"] and part2:\n",
    "                queue.append((n, camefrom, n))\n",
    "    return path_count"
   ]
  },
  {
   "cell_type": "code",
   "execution_count": 4,
   "id": "f8bc9f53",
   "metadata": {
    "scrolled": true
   },
   "outputs": [
    {
     "data": {
      "text/plain": [
       "3510"
      ]
     },
     "execution_count": 4,
     "metadata": {},
     "output_type": "execute_result"
    }
   ],
   "source": [
    "traverse(graph, False)"
   ]
  },
  {
   "cell_type": "code",
   "execution_count": 5,
   "id": "24a5a40e",
   "metadata": {
    "scrolled": true
   },
   "outputs": [
    {
     "data": {
      "text/plain": [
       "122880"
      ]
     },
     "execution_count": 5,
     "metadata": {},
     "output_type": "execute_result"
    }
   ],
   "source": [
    "traverse(graph, True)"
   ]
  }
 ],
 "metadata": {
  "kernelspec": {
   "display_name": "Python 3 (ipykernel)",
   "language": "python",
   "name": "python3"
  },
  "language_info": {
   "codemirror_mode": {
    "name": "ipython",
    "version": 3
   },
   "file_extension": ".py",
   "mimetype": "text/x-python",
   "name": "python",
   "nbconvert_exporter": "python",
   "pygments_lexer": "ipython3",
   "version": "3.8.12"
  }
 },
 "nbformat": 4,
 "nbformat_minor": 5
}
