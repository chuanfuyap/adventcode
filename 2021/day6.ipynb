{
 "cells": [
  {
   "cell_type": "code",
   "execution_count": 1,
   "metadata": {},
   "outputs": [],
   "source": [
    "import numpy as np\n",
    "import pandas as pd\n",
    "from collections import Counter"
   ]
  },
  {
   "cell_type": "code",
   "execution_count": 2,
   "metadata": {},
   "outputs": [
    {
     "name": "stdout",
     "output_type": "stream",
     "text": [
      "361169\n"
     ]
    }
   ],
   "source": [
    "## part1\n",
    "fishies =np.loadtxt(\"day6.txt\", delimiter=\",\" )\n",
    "for i in range(80):\n",
    "    ## move counter down by 1\n",
    "    fishies-=1\n",
    "    ## give birth\n",
    "    newbabies = (fishies==-1).sum()\n",
    "    if newbabies:\n",
    "        fishies[fishies==-1] =6\n",
    "        new = np.zeros(newbabies)+8\n",
    "        fishies = np.concatenate([fishies,new])\n",
    "print(fishies.shape[0])"
   ]
  },
  {
   "cell_type": "code",
   "execution_count": 3,
   "metadata": {},
   "outputs": [
    {
     "name": "stdout",
     "output_type": "stream",
     "text": [
      "1634946868992\n"
     ]
    }
   ],
   "source": [
    "### part 2\n",
    "fishies =np.loadtxt(\"day6.txt\", delimiter=\",\" ).astype(int)\n",
    "\n",
    "fishies = dict(Counter(fishies))\n",
    "for i in range(-1,9):\n",
    "    if i not in fishies:\n",
    "        fishies[i]=0 \n",
    "for i in range(256):\n",
    "    ## move counter down by 1\n",
    "    fishies = {i-1 : fishies[i] for i in range(-1,9)}\n",
    "    ## give birth\n",
    "    if fishies[-1]>0:\n",
    "        fishies[8]=fishies[-1]\n",
    "        fishies[6]+=fishies[-1]\n",
    "        fishies[-1]=0\n",
    "    else:\n",
    "        fishies[8]=0\n",
    "print(sum(list(fishies.values())))"
   ]
  },
  {
   "cell_type": "code",
   "execution_count": null,
   "metadata": {},
   "outputs": [],
   "source": []
  }
 ],
 "metadata": {
  "kernelspec": {
   "display_name": "Python 3 (ipykernel)",
   "language": "python",
   "name": "python3"
  },
  "language_info": {
   "codemirror_mode": {
    "name": "ipython",
    "version": 3
   },
   "file_extension": ".py",
   "mimetype": "text/x-python",
   "name": "python",
   "nbconvert_exporter": "python",
   "pygments_lexer": "ipython3",
   "version": "3.8.12"
  }
 },
 "nbformat": 4,
 "nbformat_minor": 2
}
