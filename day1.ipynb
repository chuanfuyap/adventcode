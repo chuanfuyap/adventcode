{
 "cells": [
  {
   "cell_type": "code",
   "execution_count": 1,
   "id": "da16d546",
   "metadata": {},
   "outputs": [],
   "source": [
    "import pandas as pd"
   ]
  },
  {
   "cell_type": "code",
   "execution_count": 2,
   "id": "38e4b5da",
   "metadata": {},
   "outputs": [],
   "source": [
    "df = pd.read_csv(\"day1.txt\", names=[\"value\"])"
   ]
  },
  {
   "cell_type": "code",
   "execution_count": 3,
   "id": "43fa3a6a",
   "metadata": {
    "scrolled": false
   },
   "outputs": [
    {
     "data": {
      "text/plain": [
       "1477"
      ]
     },
     "execution_count": 3,
     "metadata": {},
     "output_type": "execute_result"
    }
   ],
   "source": [
    "### part 1\n",
    "(df.value.diff()>0).sum()"
   ]
  },
  {
   "cell_type": "code",
   "execution_count": 4,
   "id": "c6c5b231",
   "metadata": {},
   "outputs": [
    {
     "data": {
      "text/plain": [
       "1523"
      ]
     },
     "execution_count": 4,
     "metadata": {},
     "output_type": "execute_result"
    }
   ],
   "source": [
    "### part 2\n",
    "(df.value.rolling(window=3).sum().diff()>0).sum()"
   ]
  }
 ],
 "metadata": {
  "kernelspec": {
   "display_name": "Python 3 (ipykernel)",
   "language": "python",
   "name": "python3"
  },
  "language_info": {
   "codemirror_mode": {
    "name": "ipython",
    "version": 3
   },
   "file_extension": ".py",
   "mimetype": "text/x-python",
   "name": "python",
   "nbconvert_exporter": "python",
   "pygments_lexer": "ipython3",
   "version": "3.8.12"
  }
 },
 "nbformat": 4,
 "nbformat_minor": 5
}
