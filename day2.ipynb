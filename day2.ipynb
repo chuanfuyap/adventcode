{
 "cells": [
  {
   "cell_type": "code",
   "execution_count": 1,
   "id": "af382ea8",
   "metadata": {},
   "outputs": [],
   "source": [
    "import pandas as pd"
   ]
  },
  {
   "cell_type": "code",
   "execution_count": 2,
   "id": "7d81603a",
   "metadata": {},
   "outputs": [],
   "source": [
    "df = pd.read_csv(\"day2.txt\", sep=\"\\s+\", names=[\"dir\",\"value\"])"
   ]
  },
  {
   "cell_type": "code",
   "execution_count": 3,
   "id": "5ff9faea",
   "metadata": {
    "scrolled": true
   },
   "outputs": [
    {
     "data": {
      "text/plain": [
       "1727835"
      ]
     },
     "execution_count": 3,
     "metadata": {},
     "output_type": "execute_result"
    }
   ],
   "source": [
    "## part 1\n",
    "### just sum up respective directions\n",
    "def direction(whereto): return df[df.dir==whereto].value.sum(0)\n",
    "direction(\"forward\") * (direction(\"down\")- direction(\"up\"))"
   ]
  },
  {
   "cell_type": "code",
   "execution_count": 4,
   "id": "71b3e81d",
   "metadata": {},
   "outputs": [
    {
     "data": {
      "text/plain": [
       "1544000595.0"
      ]
     },
     "execution_count": 4,
     "metadata": {},
     "output_type": "execute_result"
    }
   ],
   "source": [
    "## part 2\n",
    "## first make new columns for aim which is up/down in their respective negative/positive as a submarine\n",
    "df[\"aim\"] = df[df.dir==\"up\"].value*-1\n",
    "df[\"aim\"] = df[\"aim\"].combine_first(df[df.dir==\"down\"].value)\n",
    "## cumulative sum, to get the vertical axis, then shifted to get it next to forward direction\n",
    "df[\"aim_shift\"] = df.aim.cumsum().shift()\n",
    "## forward fill in case there's more forward direction after a first forward\n",
    "df[\"aim_shift\"] = df[\"aim_shift\"] .fillna(method=\"ffill\")\n",
    "### multiple value with aim to get depth\n",
    "df[\"depth\"] = df.value*df.aim_shift\n",
    "### take only forward depth and summed it as above\n",
    "direction(\"forward\") * df[df.dir==\"forward\"].depth.sum(0)"
   ]
  },
  {
   "cell_type": "code",
   "execution_count": null,
   "id": "a182ec5c",
   "metadata": {},
   "outputs": [],
   "source": []
  }
 ],
 "metadata": {
  "kernelspec": {
   "display_name": "Python 3 (ipykernel)",
   "language": "python",
   "name": "python3"
  },
  "language_info": {
   "codemirror_mode": {
    "name": "ipython",
    "version": 3
   },
   "file_extension": ".py",
   "mimetype": "text/x-python",
   "name": "python",
   "nbconvert_exporter": "python",
   "pygments_lexer": "ipython3",
   "version": "3.8.12"
  }
 },
 "nbformat": 4,
 "nbformat_minor": 5
}
